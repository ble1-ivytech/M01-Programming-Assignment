{
 "cells": [
  {
   "cell_type": "markdown",
   "id": "56e329fa",
   "metadata": {},
   "source": [
    "There are 60 seconds in an minute."
   ]
  },
  {
   "cell_type": "code",
   "execution_count": 25,
   "id": "23849c86",
   "metadata": {},
   "outputs": [
    {
     "name": "stdout",
     "output_type": "stream",
     "text": [
      "3600\n"
     ]
    }
   ],
   "source": [
    "seconds_minutes = 60\n",
    "minutes_hours = 60\n",
    "total = seconds_minutes * minutes_hours\n",
    "print(total)"
   ]
  },
  {
   "cell_type": "markdown",
   "id": "e880aae2",
   "metadata": {},
   "source": [
    "There are 3600 seconds in an hour."
   ]
  },
  {
   "cell_type": "code",
   "execution_count": 24,
   "id": "f41beb3b",
   "metadata": {},
   "outputs": [
    {
     "name": "stdout",
     "output_type": "stream",
     "text": [
      "3600\n"
     ]
    }
   ],
   "source": [
    "seconds_per_hour = 3600\n",
    "print(seconds_per_hour)"
   ]
  },
  {
   "cell_type": "markdown",
   "id": "dc3e6ef9",
   "metadata": {},
   "source": [
    "There are 3600 seconds in an hour."
   ]
  },
  {
   "cell_type": "code",
   "execution_count": 20,
   "id": "df1ca0cf",
   "metadata": {},
   "outputs": [
    {
     "name": "stdout",
     "output_type": "stream",
     "text": [
      "86400\n"
     ]
    }
   ],
   "source": [
    "seconds_per_hour = 3600\n",
    "hours_per_day = 24\n",
    "total = seconds_per_hour * hours_per_day\n",
    "print(total)"
   ]
  },
  {
   "cell_type": "markdown",
   "id": "f32fe6d3",
   "metadata": {},
   "source": [
    "There are 86400 seconds in a day."
   ]
  },
  {
   "cell_type": "code",
   "execution_count": 21,
   "id": "a097b5a3",
   "metadata": {},
   "outputs": [
    {
     "name": "stdout",
     "output_type": "stream",
     "text": [
      "24.0\n"
     ]
    }
   ],
   "source": [
    "seconds_per_day = 86400\n",
    "seconds_per_hour = 3600\n",
    "total = seconds_per_day / seconds_per_hour\n",
    "print(total)"
   ]
  },
  {
   "cell_type": "markdown",
   "id": "ac53918e",
   "metadata": {},
   "source": [
    "The solution is 24.0, the number of hours in a day."
   ]
  },
  {
   "cell_type": "code",
   "execution_count": 22,
   "id": "b6fe53aa",
   "metadata": {
    "scrolled": true
   },
   "outputs": [
    {
     "name": "stdout",
     "output_type": "stream",
     "text": [
      "24\n"
     ]
    }
   ],
   "source": [
    "seconds_per_day = 86400\n",
    "seconds_per_hour = 3600\n",
    "total = seconds_per_day // seconds_per_hour\n",
    "print(total)"
   ]
  },
  {
   "cell_type": "markdown",
   "id": "ac579bde",
   "metadata": {},
   "source": [
    "The solution is 24, the number of hours in a day. (Agreed with previous answer.)"
   ]
  }
 ],
 "metadata": {
  "kernelspec": {
   "display_name": "Python 3 (ipykernel)",
   "language": "python",
   "name": "python3"
  },
  "language_info": {
   "codemirror_mode": {
    "name": "ipython",
    "version": 3
   },
   "file_extension": ".py",
   "mimetype": "text/x-python",
   "name": "python",
   "nbconvert_exporter": "python",
   "pygments_lexer": "ipython3",
   "version": "3.9.12"
  }
 },
 "nbformat": 4,
 "nbformat_minor": 5
}
